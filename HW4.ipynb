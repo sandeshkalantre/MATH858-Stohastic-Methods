{
 "cells": [
  {
   "cell_type": "markdown",
   "metadata": {},
   "source": [
    "# HW4"
   ]
  },
  {
   "cell_type": "code",
   "execution_count": 4,
   "metadata": {},
   "outputs": [],
   "source": [
    "import numpy as np\n",
    "import matplotlib.pyplot as plt\n",
    "%matplotlib inline\n",
    "import scipy.special"
   ]
  },
  {
   "cell_type": "markdown",
   "metadata": {},
   "source": [
    "# Problem 1"
   ]
  },
  {
   "cell_type": "markdown",
   "metadata": {},
   "source": [
    "## (a)"
   ]
  },
  {
   "cell_type": "markdown",
   "metadata": {},
   "source": [
    "For $a$ and $b$ non-zero, $p(i,k) > 0$ and $q(i,m) > 0$. Therefore, $P(i,i') > 0$ and so it is possible to transition between any two states. Hence, the chain is irreducible."
   ]
  },
  {
   "cell_type": "markdown",
   "metadata": {},
   "source": [
    "## (b)"
   ]
  },
  {
   "cell_type": "code",
   "execution_count": 174,
   "metadata": {},
   "outputs": [
    {
     "name": "stdout",
     "output_type": "stream",
     "text": [
      "Stochstic matrix P\n",
      " [[1.00000000e+00 0.00000000e+00 0.00000000e+00 ... 0.00000000e+00\n",
      "  0.00000000e+00 0.00000000e+00]\n",
      " [3.72546092e-02 3.72546092e-01 3.53441164e-01 ... 3.35672209e-57\n",
      "  4.52964103e-60 2.97785021e-63]\n",
      " [1.42395741e-03 2.84791483e-02 1.69375987e-01 ... 7.48311140e-45\n",
      "  2.12821760e-47 2.94676283e-50]\n",
      " ...\n",
      " [2.50000000e-41 9.50000000e-39 1.75750000e-36 ... 1.50298218e-01\n",
      "  7.12685920e-02 1.64688233e-02]\n",
      " [2.50000000e-41 9.75000000e-39 1.84275000e-36 ... 1.48265030e-01\n",
      "  6.97986139e-02 1.60126232e-02]\n",
      " [1.00000000e-40 3.60000000e-38 6.31800000e-36 ... 1.42334428e-01\n",
      "  6.56928131e-02 1.47808829e-02]]\n"
     ]
    }
   ],
   "source": [
    "N = 40\n",
    "a = 1\n",
    "b = 0.1\n",
    "\n",
    "def p(i,k,N=N,a=a):\n",
    "    return scipy.special.comb(N-i,k) * (a*i/N)**k * (1 - (a*i/N))**(N - i - k) \n",
    "\n",
    "def q(i,m,N=N,b=b):\n",
    "    return scipy.special.comb(i,m)* b**m * (1 - b)**(i - m) \n",
    "\n",
    "def P(i,i2,N=N,a=a,b=b):\n",
    "    res = 0\n",
    "    d = i2 - i\n",
    "    for k in range(N-i+1):\n",
    "        for m in range(i+1):\n",
    "            if (k - m) == d:\n",
    "                res += p(i,k,N,a)*q(i,m,N,b)\n",
    "    return res\n",
    "\n",
    "P_mat = np.zeros((N+1,N+1))\n",
    "for x in range(N+1):\n",
    "    for y in range(N+1):\n",
    "        P_mat[x,y] = P(x,y,N,a,b)\n",
    "print(\"Stochstic matrix P\\n\",P_mat)"
   ]
  },
  {
   "cell_type": "markdown",
   "metadata": {},
   "source": [
    "** Verfication that P is a stochastic matrix ** i.e. rows sums should be 1.0 "
   ]
  },
  {
   "cell_type": "code",
   "execution_count": 175,
   "metadata": {},
   "outputs": [
    {
     "name": "stdout",
     "output_type": "stream",
     "text": [
      "[1. 1. 1. 1. 1. 1. 1. 1. 1. 1. 1. 1. 1. 1. 1. 1. 1. 1. 1. 1. 1. 1. 1. 1.\n",
      " 1. 1. 1. 1. 1. 1. 1. 1. 1. 1. 1. 1. 1. 1. 1. 1. 1.]\n"
     ]
    }
   ],
   "source": [
    "# rows sums\n",
    "print(np.sum(P_mat,axis=1))"
   ]
  },
  {
   "cell_type": "markdown",
   "metadata": {},
   "source": [
    "## (c)"
   ]
  },
  {
   "cell_type": "code",
   "execution_count": 176,
   "metadata": {},
   "outputs": [
    {
     "name": "stdout",
     "output_type": "stream",
     "text": [
      "Eigenvalues [ 1.00000000e+00+0.00000000e+00j  1.00000000e+00+0.00000000e+00j\n",
      "  4.20483819e-01+0.00000000e+00j  1.84541432e-01+0.00000000e+00j\n",
      "  1.39033435e-01+0.00000000e+00j  8.49810756e-02+0.00000000e+00j\n",
      "  4.13852689e-02+0.00000000e+00j  3.28849726e-02+0.00000000e+00j\n",
      "  2.16086918e-02+0.00000000e+00j  1.29409210e-02+0.00000000e+00j\n",
      "  1.20614475e-02+0.00000000e+00j  8.28302504e-03+0.00000000e+00j\n",
      "  5.93760874e-03+0.00000000e+00j  3.93706441e-03+0.00000000e+00j\n",
      "  2.46745123e-03+0.00000000e+00j  1.46726542e-03+0.00000000e+00j\n",
      "  8.28065375e-04+0.00000000e+00j  4.43172293e-04+0.00000000e+00j\n",
      "  2.24545142e-04+0.00000000e+00j  1.07321362e-04+0.00000000e+00j\n",
      "  4.82171731e-05+0.00000000e+00j  2.01283051e-05+0.00000000e+00j\n",
      "  7.81995151e-06+0.00000000e+00j  2.66419694e-06+0.00000000e+00j\n",
      " -1.68046720e-06+0.00000000e+00j  9.42185765e-07+0.00000000e+00j\n",
      "  1.57489581e-07+4.18004766e-08j  1.57489581e-07-4.18004766e-08j\n",
      "  5.04457375e-09+1.51640223e-08j  5.04457375e-09-1.51640223e-08j\n",
      " -9.39758379e-10+8.55441400e-10j -9.39758379e-10-8.55441400e-10j\n",
      "  9.64849678e-11+0.00000000e+00j -1.04968751e-10+0.00000000e+00j\n",
      " -2.78548738e-11+0.00000000e+00j  5.68764608e-13+1.35435018e-12j\n",
      "  5.68764608e-13-1.35435018e-12j  1.90462054e-13+0.00000000e+00j\n",
      " -5.39489194e-14+0.00000000e+00j -7.97095567e-15+0.00000000e+00j\n",
      " -3.36962187e-16+0.00000000e+00j]\n"
     ]
    }
   ],
   "source": [
    "u,v = np.linalg.eig(np.transpose(P_mat))\n",
    "# list of eigenvalues\n",
    "print(\"Eigenvalues\",u)"
   ]
  },
  {
   "cell_type": "markdown",
   "metadata": {},
   "source": [
    "The first eigenvector is all zeroes except 1.0 at the first index."
   ]
  },
  {
   "cell_type": "code",
   "execution_count": 178,
   "metadata": {},
   "outputs": [
    {
     "data": {
      "text/plain": [
       "[<matplotlib.lines.Line2D at 0x110d4f358>]"
      ]
     },
     "execution_count": 178,
     "metadata": {},
     "output_type": "execute_result"
    },
    {
     "data": {
      "image/png": "[encoded data removed]",
      "text/plain": [
       "<Figure size 432x288 with 1 Axes>"
      ]
     },
     "metadata": {},
     "output_type": "display_data"
    }
   ],
   "source": [
    "plt.plot(np.real(v[:,0]))"
   ]
  },
  {
   "cell_type": "markdown",
   "metadata": {},
   "source": [
    "From the plot of elements of the eigenvector with eigenvalue 1, we see that it is $[1,0,...,0]$"
   ]
  },
  {
   "cell_type": "code",
   "execution_count": 179,
   "metadata": {},
   "outputs": [
    {
     "name": "stdout",
     "output_type": "stream",
     "text": [
      "[-1.68046720e-06 -9.39758379e-10 -9.39758379e-10 -1.04968751e-10\n",
      " -2.78548738e-11 -5.39489194e-14 -7.97095567e-15 -3.36962187e-16\n",
      "  1.90462054e-13  5.68764608e-13  5.68764608e-13  9.64849678e-11\n",
      "  5.04457375e-09  5.04457375e-09  1.57489581e-07  1.57489581e-07\n",
      "  9.42185765e-07  2.66419694e-06  7.81995151e-06  2.01283051e-05\n",
      "  4.82171731e-05  1.07321362e-04  2.24545142e-04  4.43172293e-04\n",
      "  8.28065375e-04  1.46726542e-03  2.46745123e-03  3.93706441e-03\n",
      "  5.93760874e-03  8.28302504e-03  1.20614475e-02  1.29409210e-02\n",
      "  2.16086918e-02  3.28849726e-02  4.13852689e-02  8.49810756e-02\n",
      "  1.39033435e-01  1.84541432e-01  4.20483819e-01  1.00000000e+00\n",
      "  1.00000000e+00]\n"
     ]
    }
   ],
   "source": [
    "# list of eigenvalues sorted in ascending order\n",
    "print(np.sort(np.real(u)))"
   ]
  },
  {
   "cell_type": "markdown",
   "metadata": {},
   "source": [
    "The second largest eigenvalue is also 1.0 (as far as machine precision goes). "
   ]
  },
  {
   "cell_type": "markdown",
   "metadata": {},
   "source": [
    "## (d)"
   ]
  },
  {
   "cell_type": "code",
   "execution_count": 182,
   "metadata": {},
   "outputs": [
    {
     "data": {
      "text/plain": [
       "[<matplotlib.lines.Line2D at 0x110fd42b0>]"
      ]
     },
     "execution_count": 182,
     "metadata": {},
     "output_type": "execute_result"
    },
    {
     "data": {
      "image/png": "[encoded data removed]",
      "text/plain": [
       "<Figure size 432x288 with 1 Axes>"
      ]
     },
     "metadata": {},
     "output_type": "display_data"
    },
    {
     "data": {
      "image/png": "[encoded data removed]",
      "text/plain": [
       "<Figure size 432x288 with 1 Axes>"
      ]
     },
     "metadata": {},
     "output_type": "display_data"
    }
   ],
   "source": [
    "lambda_dist = np.ones(N+1)/N\n",
    "lambda_dist[0] = 0\n",
    "\n",
    "n = 10\n",
    "new_dist = np.transpose(lambda_dist) @ np.linalg.matrix_power(P_mat,n)\n",
    "plt.figure(1)\n",
    "plt.title(\"After 10 steps\")\n",
    "plt.plot(new_dist,'b')\n",
    "\n",
    "n = 100\n",
    "new_dist = np.transpose(lambda_dist) @ np.linalg.matrix_power(P_mat,n)\n",
    "plt.figure(2)\n",
    "plt.title(\"After 100 steps\")\n",
    "plt.plot(new_dist,'b')"
   ]
  },
  {
   "cell_type": "code",
   "execution_count": 184,
   "metadata": {},
   "outputs": [
    {
     "data": {
      "text/plain": [
       "<matplotlib.legend.Legend at 0x110f30780>"
      ]
     },
     "execution_count": 184,
     "metadata": {},
     "output_type": "execute_result"
    },
    {
     "data": {
      "image/png": "[encoded data removed]",
      "text/plain": [
       "<Figure size 432x288 with 1 Axes>"
      ]
     },
     "metadata": {},
     "output_type": "display_data"
    }
   ],
   "source": [
    "# plot of distribution with second largest eigenvalue\n",
    "exp_dist = v[:,1]/np.sum(v[:,1])\n",
    "plt.plot(np.real(exp_dist),label=\"Distribution from eigenvector\")\n",
    "plt.plot(np.real(new_dist),label=\"Distribution from evolution of the chain\")\n",
    "plt.legend()"
   ]
  },
  {
   "cell_type": "markdown",
   "metadata": {},
   "source": [
    "The two distributions exactly match up here."
   ]
  },
  {
   "cell_type": "markdown",
   "metadata": {},
   "source": [
    "## (d)"
   ]
  },
  {
   "cell_type": "code",
   "execution_count": 271,
   "metadata": {},
   "outputs": [],
   "source": [
    "N = 40\n",
    "\n",
    "a_vec = np.linspace(0.1,1,10)\n",
    "b_vec= np.linspace(0.1,1,10)\n",
    "eig_table = []\n",
    "for a in a_vec:\n",
    "    eig_vec = []\n",
    "    for b in b_vec:\n",
    "        P_mat = np.zeros((N+1,N+1))\n",
    "        for x in range(N+1):\n",
    "            for y in range(N+1):\n",
    "                P_mat[x,y] = P(x,y,N,a,b)\n",
    "\n",
    "        u,v = np.linalg.eig(np.transpose(P_mat))\n",
    "        sorted_eig = np.sort(np.real(u))\n",
    "        second_largest = sorted_eig[-2]\n",
    "        eig_vec.append(second_largest)\n",
    "    eig_table.append(eig_vec)"
   ]
  },
  {
   "cell_type": "code",
   "execution_count": 272,
   "metadata": {},
   "outputs": [
    {
     "data": {
      "text/plain": [
       "Text(0.5,1,'Second largest eigenvalue')"
      ]
     },
     "execution_count": 272,
     "metadata": {},
     "output_type": "execute_result"
    },
    {
     "data": {
      "image/png": "[encoded data removed]",
      "text/plain": [
       "<Figure size 432x288 with 2 Axes>"
      ]
     },
     "metadata": {},
     "output_type": "display_data"
    }
   ],
   "source": [
    "XX,YY = np.meshgrid(a_vec,b_vec)\n",
    "plt.pcolor(XX,YY,np.array(eig_table))\n",
    "plt.colorbar()\n",
    "plt.title(\"Second largest eigenvalue\")"
   ]
  },
  {
   "cell_type": "markdown",
   "metadata": {},
   "source": [
    "We can see that near $a = 1.0,b = 0.1$, the second largest eigenvalue is close to 1.0 and the state is metastable. As soon as we move away from this point, the eigenvalue becomes less than 1.0 and state is therefore not stable. "
   ]
  },
  {
   "cell_type": "markdown",
   "metadata": {},
   "source": [
    "# Problem 2"
   ]
  },
  {
   "cell_type": "markdown",
   "metadata": {},
   "source": [
    "## (b)"
   ]
  },
  {
   "cell_type": "markdown",
   "metadata": {},
   "source": [
    "I will use fixed number of steps for each temperature."
   ]
  },
  {
   "cell_type": "code",
   "execution_count": 288,
   "metadata": {},
   "outputs": [],
   "source": [
    "# N : number of spins\n",
    "N = 30\n",
    "# s a matrix of spins\n",
    "\n",
    "# start with all the spins up\n",
    "s = np.ones((N,N))\n",
    "\n",
    "beta_vec = np.linspace(0.2,2,100)\n",
    "\n",
    "m_vec = []\n",
    "for beta in beta_vec:\n",
    "    s = np.ones((N,N))\n",
    "    running_mean = 0\n",
    "    for i in range(100000):\n",
    "        (i,j) = (np.random.randint(N),np.random.randint(N))\n",
    "        delta_H = 2*s[i,j]*(s[(i+1) % N,j] + s[i,(j+1) %N] + s[(i-1) % N,j] + s[i,(j-1) % N]) \n",
    "        prob = np.exp(-beta*delta_H)\n",
    "        if prob > 1.0:\n",
    "            s[i,j] = -s[i,j]\n",
    "        else:\n",
    "            u = np.random.uniform(0,1)\n",
    "            if u < prob:\n",
    "                # accept\n",
    "                s[i,j] = -s[i,j]\n",
    "            else:\n",
    "                # reject\n",
    "                pass\n",
    "        m = np.mean(s)\n",
    "        running_mean = (running_mean*num_steps + m)/(num_steps + 1)\n",
    "    m_vec.append(running_mean)\n",
    "    "
   ]
  },
  {
   "cell_type": "code",
   "execution_count": 289,
   "metadata": {},
   "outputs": [],
   "source": [
    "def exact_m(beta):\n",
    "    if beta > 0.4408:\n",
    "        return np.power(1 - np.power(np.sinh(2*beta),-4),0.125)\n",
    "    else:\n",
    "        return 0\n",
    "exact_m_vec = np.array([exact_m(beta) for beta in beta_vec])"
   ]
  },
  {
   "cell_type": "code",
   "execution_count": 290,
   "metadata": {},
   "outputs": [
    {
     "data": {
      "text/plain": [
       "Text(0,0.5,'$m(\\\\beta)$')"
      ]
     },
     "execution_count": 290,
     "metadata": {},
     "output_type": "execute_result"
    },
    {
     "data": {
      "image/png": "[encoded data removed]",
      "text/plain": [
       "<Figure size 432x288 with 1 Axes>"
      ]
     },
     "metadata": {},
     "output_type": "display_data"
    }
   ],
   "source": [
    "plt.plot(beta_vec,m_vec,\"bo\",label=\"MCMC\")\n",
    "plt.plot(beta_vec,exact_m_vec,'--',label=\"Exact\")\n",
    "plt.legend()\n",
    "plt.xlabel(r\"$\\beta$\",fontsize=12)\n",
    "plt.ylabel(r\"$m(\\beta)$\",fontsize=12)"
   ]
  },
  {
   "cell_type": "markdown",
   "metadata": {},
   "source": [
    "## (c)\n",
    "I will use running variance of the mean less than a threshold as the stopping criterion.\n"
   ]
  },
  {
   "cell_type": "code",
   "execution_count": 269,
   "metadata": {},
   "outputs": [],
   "source": [
    "# N : number of spins\n",
    "N = 30\n",
    "# s a matrix of spins\n",
    "\n",
    "# start with all the spins up\n",
    "s = np.ones((N,N))\n",
    "\n",
    "num_steps_vec = []\n",
    "beta_vec = np.linspace(0.2,2,50)\n",
    "for beta in beta_vec:\n",
    "    num_steps = 0\n",
    "\n",
    "    m = 0\n",
    "    running_mean = 0\n",
    "    running_var = 0\n",
    "    running_mean_mean = 0\n",
    "    running_var_mean = 0\n",
    "\n",
    "    r_mean_vec = []\n",
    "    r_var_vec = []\n",
    "    r_mean_mean_vec = []\n",
    "    r_var_mean_vec = []\n",
    "\n",
    "    s = np.ones((N,N))\n",
    "    while num_steps < 20000 or running_var_mean/num_steps > 1e-8:\n",
    "        (i,j) = (np.random.randint(N),np.random.randint(N))\n",
    "        delta_H = 2*s[i,j]*(s[(i+1) % N,j] + s[i,(j+1) %N] + s[(i-1) % N,j] + s[i,(j-1) % N]) \n",
    "        prob = np.exp(-beta*delta_H)\n",
    "        if prob > 1.0:\n",
    "            s[i,j] = -s[i,j]\n",
    "        else:\n",
    "            u = np.random.uniform(0,1)\n",
    "            if u < prob:\n",
    "                # accept\n",
    "                s[i,j] = -s[i,j]\n",
    "            else:\n",
    "                # reject\n",
    "                pass\n",
    "        m = np.mean(s)\n",
    "\n",
    "        running_mean = (running_mean*num_steps + m)/(num_steps + 1)\n",
    "        r_mean_vec.append(running_mean)\n",
    "        if num_steps == 0:\n",
    "            pass\n",
    "        else:\n",
    "            running_var = ((num_steps-1)*running_var + (m - running_mean)**2)/(num_steps)\n",
    "            r_var_vec.append(running_var)\n",
    "\n",
    "        running_mean_mean = (running_mean_mean*num_steps + running_mean)/(num_steps + 1)\n",
    "        r_mean_mean_vec.append(running_mean_mean)\n",
    "        if num_steps == 0:\n",
    "            pass\n",
    "        else:\n",
    "            running_var_mean = ((num_steps-1)*running_var_mean + (running_mean - running_mean_mean)**2)/(num_steps)\n",
    "            r_var_mean_vec.append(running_var_mean)\n",
    "\n",
    "        num_steps += 1\n",
    "\n",
    "        if num_steps > 1e6:\n",
    "            break\n",
    "\n",
    "    #print(beta,num_steps)\n",
    "    num_steps_vec.append(num_steps)\n",
    "\n",
    "\n",
    "\n",
    "\n",
    "\n",
    "\n",
    "\n",
    "\n"
   ]
  },
  {
   "cell_type": "code",
   "execution_count": 284,
   "metadata": {},
   "outputs": [
    {
     "data": {
      "text/plain": [
       "Text(0.5,0,'$\\\\beta$')"
      ]
     },
     "execution_count": 284,
     "metadata": {},
     "output_type": "execute_result"
    },
    {
     "data": {
      "image/png": "[encoded data removed]",
      "text/plain": [
       "<Figure size 432x288 with 1 Axes>"
      ]
     },
     "metadata": {},
     "output_type": "display_data"
    }
   ],
   "source": [
    "beta_vec = np.linspace(0.2,2,50)\n",
    "plt.plot(beta_vec,num_steps_vec,'bo-')\n",
    "plt.ylabel(\"Number of steps\",fontsize=12)\n",
    "plt.xlabel(r\"$\\beta$\",fontsize=12)"
   ]
  },
  {
   "cell_type": "code",
   "execution_count": null,
   "metadata": {},
   "outputs": [],
   "source": []
  }
 ],
 "metadata": {
  "kernelspec": {
   "display_name": "Python 3",
   "language": "python",
   "name": "python3"
  },
  "language_info": {
   "codemirror_mode": {
    "name": "ipython",
    "version": 3
   },
   "file_extension": ".py",
   "mimetype": "text/x-python",
   "name": "python",
   "nbconvert_exporter": "python",
   "pygments_lexer": "ipython3",
   "version": "3.6.5"
  }
 },
 "nbformat": 4,
 "nbformat_minor": 2
}

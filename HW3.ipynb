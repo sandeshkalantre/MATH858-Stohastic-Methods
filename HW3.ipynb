{
 "cells": [
  {
   "cell_type": "markdown",
   "metadata": {},
   "source": [
    "# HW2\n",
    "Importance Sampling"
   ]
  },
  {
   "cell_type": "code",
   "execution_count": 1,
   "metadata": {},
   "outputs": [],
   "source": [
    "import numpy as np\n",
    "import matplotlib.pyplot as plt\n",
    "%matplotlib inline"
   ]
  },
  {
   "cell_type": "markdown",
   "metadata": {},
   "source": [
    "## (a)\n",
    "Estimating $E[cos(\\eta/5) e^{-\\eta/5}]$ using uniform samples in $[0,1]$."
   ]
  },
  {
   "cell_type": "code",
   "execution_count": 76,
   "metadata": {},
   "outputs": [
    {
     "name": "stdout",
     "output_type": "stream",
     "text": [
      "num_samples 1000\n",
      "Integral using uniform samples: 0.20906589990813537\n",
      "Standard deviation: 0.25419122670484456\n",
      "MC error as std-dev/$\\sqrt{N}$ 0.00803823237619526\n"
     ]
    }
   ],
   "source": [
    "num_samples = 10**3\n",
    "uniform_samples = np.random.uniform(0,1,num_samples)\n",
    "print(\"num_samples\",num_samples)\n",
    "\n",
    "def f_a(x):\n",
    "    return np.cos(x/5)*np.exp(-5*x)\n",
    "\n",
    "integral_uniform_samples = np.mean(f_a(uniform_samples))\n",
    "print(\"Integral using uniform samples:\",integral_uniform_samples)\n",
    "\n",
    "std_dev = np.std(f_a(uniform_samples))\n",
    "print(\"Standard deviation:\", std_dev)\n",
    "\n",
    "mc_error = std_dev/np.sqrt(num_samples)\n",
    "print(\"MC error as std-dev/$\\sqrt{N}$\",mc_error)"
   ]
  },
  {
   "cell_type": "code",
   "execution_count": 77,
   "metadata": {},
   "outputs": [
    {
     "name": "stdout",
     "output_type": "stream",
     "text": [
      "Exact result: 0.19837258551912546\n",
      "Relative error from exact result (%) 5.390520248060665\n"
     ]
    }
   ],
   "source": [
    "# exact result\n",
    "exact = (1/626)*(125 - 125*np.exp(-5)*np.cos(1/5)+5*np.exp(-5)*np.sin(1/5))\n",
    "print(\"Exact result:\", exact)\n",
    "\n",
    "exact_err = np.abs(integral_uniform_samples - exact)/exact\n",
    "print(\"Relative error from exact result (%)\",exact_err*100)"
   ]
  },
  {
   "cell_type": "code",
   "execution_count": 79,
   "metadata": {},
   "outputs": [],
   "source": [
    "# I will run the sampling for fixed number of runs to estimate the number of samples required\n",
    "n_runs = 100\n",
    "num_sample_vec = np.logspace(3,7,100)\n",
    "\n",
    "# error as a function of number of samples\n",
    "avg_err_vec = []\n",
    "\n",
    "for num_samples in num_sample_vec:\n",
    "    # error as a function of runs, for a fixed number of samples\n",
    "    error_vec = []\n",
    "    for i in range(n_runs):\n",
    "        uniform_samples = np.random.uniform(0,1,int(num_samples))\n",
    "        integral_uniform_samples = np.mean(f_a(uniform_samples))\n",
    "        exact_err = np.abs(integral_uniform_samples - exact)/exact\n",
    "        error_vec.append(exact_err)\n",
    "\n",
    "    avg_exact_err = np.mean(error_vec)\n",
    "    avg_err_vec.append(avg_exact_err)\n"
   ]
  },
  {
   "cell_type": "code",
   "execution_count": 80,
   "metadata": {},
   "outputs": [
    {
     "data": {
      "text/plain": [
       "Text(0.5,0,'Number of samples')"
      ]
     },
     "execution_count": 80,
     "metadata": {},
     "output_type": "execute_result"
    },
    {
     "data": {
      "image/png": "[encoded data removed]",
      "text/plain": [
       "<Figure size 432x288 with 1 Axes>"
      ]
     },
     "metadata": {},
     "output_type": "display_data"
    }
   ],
   "source": [
    "plt.semilogx(num_sample_vec,np.array(avg_err_vec)*100,'b')\n",
    "plt.semilogx(num_sample_vec,[1]*len(num_sample_vec),'r--',label=\"1%\")\n",
    "plt.semilogx(num_sample_vec,[0.1]*len(num_sample_vec),'g',label=\"0.1%\")\n",
    "plt.legend()\n",
    "plt.ylabel(\"Rel. error (%)\",fontsize=12)\n",
    "plt.xlabel(\"Number of samples\",fontsize=12)"
   ]
  },
  {
   "cell_type": "markdown",
   "metadata": {},
   "source": [
    "From the above plot, we see that $10^4$ samples are needed for 1% error and $10^6$ samples are needed for 0.1 % error."
   ]
  },
  {
   "cell_type": "markdown",
   "metadata": {},
   "source": [
    "## (b)\n",
    "We can determine the normalization constant analytically. $I_1 = \\int_0^1 e^{-5x} dx = \\frac{1 - e^{-5}}{5}$.\n",
    "$$ y = F(x) = \\frac{1}{I_1} \\int_0^x e^{-5x} dx = \\frac{1 - e^{-5x}}{5I_1} $$ \n",
    "\n",
    "Then, $x = \\frac{-1}{5} \\log(1 - 5I_1y)$. We can sample $x \\sim \\frac{e^{-5x}}{I_1}$ by uniformly sampling $y$ in $[0,1]$"
   ]
  },
  {
   "cell_type": "code",
   "execution_count": 75,
   "metadata": {},
   "outputs": [
    {
     "name": "stdout",
     "output_type": "stream",
     "text": [
      "num_samples 100\n",
      "Integral using importance sampling 0.19839304855733253\n",
      "Standard deviation: 0.002552426203408489\n",
      "Relative error from exact result (%) 0.010315456721766555\n"
     ]
    }
   ],
   "source": [
    "num_samples = 10**2\n",
    "uniform_samples = np.random.uniform(0,1,num_samples)\n",
    "print(\"num_samples\",num_samples)\n",
    "I_1 = 0.2*(1 - np.exp(-5))\n",
    "\n",
    "def func_x(y):\n",
    "    return -0.2 * np.log(1- 5*I_1*y)\n",
    "\n",
    "samples_x = func_x(uniform_samples)\n",
    "\n",
    "def f_b(x):\n",
    "    return np.cos(x/5)\n",
    "integral_samples_x = I_1*np.mean(f_b(samples_x))\n",
    "\n",
    "print(\"Integral using importance sampling\",integral_samples_x)\n",
    "\n",
    "std_dev = np.std(f_b(samples_x))\n",
    "print(\"Standard deviation:\", std_dev)\n",
    "\n",
    "exact_err = np.abs(integral_samples_x - exact)/exact\n",
    "print(\"Relative error from exact result (%)\",exact_err*100)"
   ]
  },
  {
   "cell_type": "code",
   "execution_count": 71,
   "metadata": {},
   "outputs": [],
   "source": [
    "# I will run the sampling for fixed number of runs to estimate the number of samples required\n",
    "n_runs = 100\n",
    "num_sample_vec = np.logspace(0,5,100)\n",
    "\n",
    "# error as a function of number of samples\n",
    "avg_err_vec = []\n",
    "\n",
    "for num_samples in num_sample_vec:\n",
    "    # error as a function of runs, for a fixed number of samples\n",
    "    error_vec = []\n",
    "    for i in range(n_runs):\n",
    "        uniform_samples = np.random.uniform(0,1,int(num_samples))\n",
    "        samples_x = func_x(uniform_samples)\n",
    "        integral_samples_x = I_1*np.mean(f_b(samples_x))\n",
    "        exact_err = np.abs(integral_samples_x - exact)/exact\n",
    "        error_vec.append(exact_err)\n",
    "\n",
    "    avg_exact_err = np.mean(error_vec)\n",
    "    avg_err_vec.append(avg_exact_err)"
   ]
  },
  {
   "cell_type": "code",
   "execution_count": 72,
   "metadata": {},
   "outputs": [
    {
     "data": {
      "text/plain": [
       "Text(0.5,0,'Number of samples')"
      ]
     },
     "execution_count": 72,
     "metadata": {},
     "output_type": "execute_result"
    },
    {
     "data": {
      "image/png": "[encoded data removed]",
      "text/plain": [
       "<Figure size 432x288 with 1 Axes>"
      ]
     },
     "metadata": {},
     "output_type": "display_data"
    }
   ],
   "source": [
    "plt.semilogx(num_sample_vec,np.array(avg_err_vec)*100,'b')\n",
    "#plt.semilogx(num_sample_vec,[1]*len(num_sample_vec),'r',label=\"1%\")\n",
    "plt.semilogx(num_sample_vec,[0.1]*len(num_sample_vec),'g',label=\"0.1%\")\n",
    "plt.legend()\n",
    "plt.ylabel(\"Rel. error (%)\",fontsize=12)\n",
    "plt.xlabel(\"Number of samples\",fontsize=12)"
   ]
  },
  {
   "cell_type": "markdown",
   "metadata": {},
   "source": [
    "With importance sampling, the relative error is less than 0.1 % even with just 10 samples. It is always less than 1% for even one sample with very high probability."
   ]
  },
  {
   "cell_type": "code",
   "execution_count": null,
   "metadata": {},
   "outputs": [],
   "source": []
  }
 ],
 "metadata": {
  "kernelspec": {
   "display_name": "Python 3",
   "language": "python",
   "name": "python3"
  },
  "language_info": {
   "codemirror_mode": {
    "name": "ipython",
    "version": 3
   },
   "file_extension": ".py",
   "mimetype": "text/x-python",
   "name": "python",
   "nbconvert_exporter": "python",
   "pygments_lexer": "ipython3",
   "version": "3.6.5"
  }
 },
 "nbformat": 4,
 "nbformat_minor": 2
}

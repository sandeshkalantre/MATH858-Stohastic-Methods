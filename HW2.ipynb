{
 "cells": [
  {
   "cell_type": "markdown",
   "metadata": {},
   "source": [
    "# HW2"
   ]
  },
  {
   "cell_type": "code",
   "execution_count": 107,
   "metadata": {},
   "outputs": [],
   "source": [
    "import numpy as np\n",
    "import matplotlib.pyplot as plt\n",
    "%matplotlib inline\n",
    "from scipy.optimize import minimize_scalar"
   ]
  },
  {
   "cell_type": "markdown",
   "metadata": {},
   "source": [
    "## (a)\n",
    "Let $g_1(x) = \\frac{1}{\\sqrt{2\\pi}} e^{-x^2/2}$.\n",
    "$$ \n",
    "\\begin{align*}\n",
    "Z &= \\int_{-\\infty}^{\\infty} e^{-(x^4-2x^2+1)} dx \\\\\n",
    "&= \\int_{-\\infty}^{\\infty} \\frac{e^{-(x^4-2x^2+1)}}{g_1(x)} g_1(x) dx \\\\ \n",
    "&= \\int_{-\\infty}^{\\infty} \\sqrt{2\\pi} e^{-(x^4-2x^2+1 - x^2/2)} g_1(x) dx\n",
    "\\end{align*}\n",
    "$$ \n",
    "We can calculate the last integral using a Gaussian random variable with pdf $g_1(x)$."
   ]
  },
  {
   "cell_type": "code",
   "execution_count": 108,
   "metadata": {},
   "outputs": [
    {
     "name": "stdout",
     "output_type": "stream",
     "text": [
      "Z calculated using Gaussian random variable: 1.9735358616781318\n"
     ]
    }
   ],
   "source": [
    "num_samples = 10**7\n",
    "# loc = mean, scale = sigma\n",
    "gauss_rv = np.random.normal(loc=0,scale=1,size=num_samples)\n",
    "\n",
    "def func(x):\n",
    "    '''\n",
    "        The integrand whose expected value we will calculate using a Gaussian random variable\n",
    "    '''\n",
    "    return np.sqrt(2*np.pi)*np.exp(-x**4 + 2*x**2 - 1 + 0.5*x**2)\n",
    "\n",
    "Z_rv = np.mean(func(gauss_rv))\n",
    "print(\"Z calculated using Gaussian random variable:\",Z_rv)"
   ]
  },
  {
   "cell_type": "markdown",
   "metadata": {},
   "source": [
    "I will now calculate Z using a numerical quadrature scheme\n",
    "$$ \\int_a^b f(x) dx \\approx \\frac{b-a}{2N} \\left(f(x_0) + 2 f(x_1) + \\ldots + 2 f(x_{n-1}) + f(x_n) \\right) $$"
   ]
  },
  {
   "cell_type": "code",
   "execution_count": 109,
   "metadata": {},
   "outputs": [
    {
     "name": "stdout",
     "output_type": "stream",
     "text": [
      "f(3) =  8.126586000747358e-29\n",
      "Z calculated using trapezoidal rule 1.9737321496235927\n"
     ]
    }
   ],
   "source": [
    "def f_without_Z(x):\n",
    "    '''\n",
    "        Integrand in the integral for Z\n",
    "    '''\n",
    "    return np.exp(-x**4 + 2*x**2 - 1) \n",
    "\n",
    "a = 3\n",
    "print(\"f({:d}) = \".format(a),f(a))\n",
    "# so for a = 3, f(a) < 1e-16\n",
    "\n",
    "# samples to use the trapezoidal rule\n",
    "num_samples_int = 10**7\n",
    "x_vec = np.linspace(-a,a,num_samples_int,endpoint=True)\n",
    "dx = x_vec[1]-x_vec[0]\n",
    "Z_int = 0.5*dx*np.sum(2*f_without_Z(x_vec) - f_without_Z(x_vec[0]) - f_without_Z(x_vec[-1])) \n",
    "print(\"Z calculated using trapezoidal rule\",Z_int)"
   ]
  },
  {
   "cell_type": "code",
   "execution_count": 110,
   "metadata": {},
   "outputs": [
    {
     "name": "stdout",
     "output_type": "stream",
     "text": [
      "Percentage error in Z calculated by two methods 0.009946003478953072 %\n"
     ]
    }
   ],
   "source": [
    "print(\"Percentage error in Z calculated by two methods\",np.abs(100*(Z_rv - Z_int)/Z_rv),\"%\")"
   ]
  },
  {
   "cell_type": "markdown",
   "metadata": {},
   "source": [
    "## (b)\n",
    "\n",
    "Define $$h(x) = f(x)/g_\\sigma(x) = \\frac{\\sqrt{2\\pi\\sigma^2}}{Z} e^{-(x^4-2x^2+1) + \\frac{x^2}{2\\sigma^2}}$$\n",
    "\n",
    "Minimizing $h(x)$, we get, $-4 x^3 + 4 x + \\frac{x}{\\sigma^2} = 0 \\implies x^2 = 1 + \\frac{1}{4\\sigma^2}$ or $x = 0$. Maxima occurs at $x=0$\n",
    "\n",
    "Let $x_* = \\sqrt{1 + \\frac{1}{4\\sigma^2}}$, I will plot $h(x_*(\\sigma))$ as a function of $\\sigma$."
   ]
  },
  {
   "cell_type": "code",
   "execution_count": 112,
   "metadata": {},
   "outputs": [
    {
     "data": {
      "text/plain": [
       "Text(0,0.5,'$h_\\\\sigma(x_*)$')"
      ]
     },
     "execution_count": 112,
     "metadata": {},
     "output_type": "execute_result"
    },
    {
     "data": {
      "image/png": "[encoded data removed]",
      "text/plain": [
       "<Figure size 432x288 with 1 Axes>"
      ]
     },
     "metadata": {},
     "output_type": "display_data"
    }
   ],
   "source": [
    "def f(x):\n",
    "    # using the Z calculated using Gaussian samples\n",
    "    return f_without_Z(x)/Z_rv\n",
    "\n",
    "def h(x,sigma):\n",
    "    return np.sqrt(2*np.pi*sigma**2) * f(x) * np.exp(x**2/(2*sigma**2))\n",
    "\n",
    "def x_star(sigma):\n",
    "    return np.sqrt(1 + 1/(4*sigma**2))\n",
    "\n",
    "sigma_vec = np.linspace(1,1.5,100)\n",
    "plt.plot(sigma_vec,h(x_star(sigma_vec),sigma_vec),color=\"b\")\n",
    "plt.xlabel(r\"$\\sigma$\",fontsize=16)\n",
    "plt.ylabel(r\"$h_\\sigma(x_*)$\",fontsize=16)"
   ]
  },
  {
   "cell_type": "markdown",
   "metadata": {},
   "source": [
    "### Minimizing $h(x_*(\\sigma))$ as a function of $\\sigma$\n",
    "I will use the `minimize_scalar` function from `scipy.optimize`"
   ]
  },
  {
   "cell_type": "code",
   "execution_count": 113,
   "metadata": {},
   "outputs": [
    {
     "name": "stdout",
     "output_type": "stream",
     "text": [
      "     fun: 2.2041274803175854\n",
      " message: 'Solution found.'\n",
      "    nfev: 10\n",
      "  status: 0\n",
      " success: True\n",
      "       x: 1.0986839332666285\n",
      "Minimum occurs at sigma = 1.0986839332666285 and the value at minimum is 2.2041274803175854\n"
     ]
    }
   ],
   "source": [
    "from scipy.optimize import minimize_scalar\n",
    "h_sigma = lambda x : h(x_star(x),x)\n",
    "res = minimize_scalar(h_sigma,bounds=(1,1.5),method='bounded')\n",
    "print(res)\n",
    "print(\"Minimum occurs at sigma =\",res.x,\"and the value at minimum is\",h_sigma(res.x))"
   ]
  },
  {
   "cell_type": "markdown",
   "metadata": {},
   "source": [
    "## (c)\n",
    "Sampling $f(x) = \\frac{1}{Z} e^{-(x^4-2x^2+1)}$ using the acceptance-rejection method"
   ]
  },
  {
   "cell_type": "code",
   "execution_count": 114,
   "metadata": {},
   "outputs": [
    {
     "name": "stdout",
     "output_type": "stream",
     "text": [
      "Acceptance prob. 0.4535892\n",
      "Expected acceptance prob. = 1/c = 0.4536942662934874\n"
     ]
    }
   ],
   "source": [
    "# optimal sigma\n",
    "sigma = res.x\n",
    "# optimal value of h(x_*(\\sigma)) \n",
    "c = h_sigma(sigma) \n",
    "\n",
    "# guassian samples with optimum sigma\n",
    "# loc = mean, scale = sigma\n",
    "num_samples = 10**7\n",
    "gauss_rv_sigma = np.random.normal(loc=0,scale=sigma,size=num_samples)\n",
    "\n",
    "def g_sigma(x):\n",
    "    return (1.0/np.sqrt(2*np.pi*sigma**2)) * np.exp(-x**2/(2*sigma**2))\n",
    "\n",
    "# ratio of f(x)/(c*g(x))\n",
    "ratio = f(gauss_rv_sigma)/(c*g_sigma(gauss_rv_sigma))\n",
    "uniform_samples = np.random.uniform(0,1,num_samples)\n",
    "# set rejected ratios to -1 for identification later\n",
    "ratio[np.where(uniform_samples > ratio)] = -1\n",
    "\n",
    "acceptance_prob = len(np.where(ratio >= 0)[0])/num_samples\n",
    "print(\"Acceptance prob.\",acceptance_prob)\n",
    "print(\"Expected acceptance prob. = 1/c =\",1/c)"
   ]
  },
  {
   "cell_type": "markdown",
   "metadata": {},
   "source": [
    "**Historgram** for samples from $f(x)$"
   ]
  },
  {
   "cell_type": "code",
   "execution_count": 115,
   "metadata": {},
   "outputs": [
    {
     "data": {
      "text/plain": [
       "Text(0,0.5,'Prob.')"
      ]
     },
     "execution_count": 115,
     "metadata": {},
     "output_type": "execute_result"
    },
    {
     "data": {
      "image/png": "[encoded data removed]",
      "text/plain": [
       "<Figure size 432x288 with 1 Axes>"
      ]
     },
     "metadata": {},
     "output_type": "display_data"
    }
   ],
   "source": [
    "# accepted samples\n",
    "f_x_samples = gauss_rv_sigma[np.where(ratio >= 0)]\n",
    "\n",
    "plt.hist(f_x_samples,bins=50,density=True,facecolor=\"g\",alpha=0.65,histtype=\"stepfilled\",label=\"sample histogram\")\n",
    "\n",
    "# exact distribution\n",
    "x_vec = np.linspace(-2,2,100)\n",
    "f_x = f(x_vec)\n",
    "\n",
    "plt.plot(x_vec,f_x,label=r\"$f(x)$\")\n",
    "plt.legend(loc=\"upper right\")\n",
    "plt.xlabel(r\"$x$\")\n",
    "plt.ylabel(r\"Prob.\")"
   ]
  },
  {
   "cell_type": "markdown",
   "metadata": {},
   "source": [
    "## (d)\n",
    "Finding $E[|x|]$"
   ]
  },
  {
   "cell_type": "code",
   "execution_count": 116,
   "metadata": {},
   "outputs": [
    {
     "name": "stdout",
     "output_type": "stream",
     "text": [
      "E[|x|] = 0.8271746000772472\n"
     ]
    }
   ],
   "source": [
    "E_abs_x = np.mean(np.abs(f_x_samples))\n",
    "print(\"E[|x|] =\",E_abs_x)"
   ]
  }
 ],
 "metadata": {
  "kernelspec": {
   "display_name": "Python 3",
   "language": "python",
   "name": "python3"
  },
  "language_info": {
   "codemirror_mode": {
    "name": "ipython",
    "version": 3
   },
   "file_extension": ".py",
   "mimetype": "text/x-python",
   "name": "python",
   "nbconvert_exporter": "python",
   "pygments_lexer": "ipython3",
   "version": "3.6.5"
  }
 },
 "nbformat": 4,
 "nbformat_minor": 2
}

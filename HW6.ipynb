{
 "cells": [
  {
   "cell_type": "markdown",
   "metadata": {},
   "source": [
    "# HW6"
   ]
  },
  {
   "cell_type": "code",
   "execution_count": 1,
   "metadata": {},
   "outputs": [],
   "source": [
    "import numpy as np\n",
    "import matplotlib.pyplot as plt\n",
    "%matplotlib inline"
   ]
  },
  {
   "cell_type": "code",
   "execution_count": 112,
   "metadata": {},
   "outputs": [
    {
     "name": "stdout",
     "output_type": "stream",
     "text": [
      "L matrix\n",
      " [[-6.96069750e-09  6.94801823e-09  6.71236160e-12  5.96691455e-12]\n",
      " [ 1.22423101e-04 -1.96367157e-04  4.32134058e-05  3.07306501e-05]\n",
      " [ 4.36304686e-05  1.59415520e-02 -1.59851825e-02  0.00000000e+00]\n",
      " [ 4.22928296e-05  1.23619290e-02  0.00000000e+00 -1.24042218e-02]]\n"
     ]
    }
   ],
   "source": [
    "# load L matrix\n",
    "L = np.loadtxt(\"L.txt\",dtype=np.float64)\n",
    "print(\"L matrix\\n\",L)"
   ]
  },
  {
   "cell_type": "code",
   "execution_count": 113,
   "metadata": {},
   "outputs": [],
   "source": [
    "u,v = np.linalg.eig(L.T)"
   ]
  },
  {
   "cell_type": "markdown",
   "metadata": {},
   "source": [
    "## (a)"
   ]
  },
  {
   "cell_type": "code",
   "execution_count": 114,
   "metadata": {},
   "outputs": [
    {
     "name": "stdout",
     "output_type": "stream",
     "text": [
      "Invariant distribution [9.99942954e-01 5.67509056e-05 1.53836961e-07 1.41077677e-07]\n"
     ]
    }
   ],
   "source": [
    "# invariant distribution\n",
    "pi = v[:,0]/np.sum(v[:,0])\n",
    "print(\"Invariant distribution\",pi)"
   ]
  },
  {
   "cell_type": "markdown",
   "metadata": {},
   "source": [
    "## (b)"
   ]
  },
  {
   "cell_type": "code",
   "execution_count": 115,
   "metadata": {},
   "outputs": [
    {
     "name": "stdout",
     "output_type": "stream",
     "text": [
      "Eigenvalues [0.         0.00012202 0.01602898 0.01243478]\n",
      "Columns as left eigenvectors\n",
      " [[ 9.99999998e-01  7.08944879e-01 -3.50923026e-03  4.55987104e-03]\n",
      " [ 5.67541431e-05 -7.05259068e-01  7.11845567e-01 -7.05059685e-01]\n",
      " [ 1.53845737e-07 -1.92122068e-03 -7.02301326e-01 -8.58156627e-03]\n",
      " [ 1.41085725e-07 -1.76459080e-03 -6.03501161e-03  7.09081381e-01]]\n",
      "Columns as right eigenvectors\n",
      " [[ 5.00000000e-01  3.28131000e-05 -7.68693377e-10  9.07217631e-10]\n",
      " [ 5.00000000e-01 -5.75156324e-01  2.74744803e-03 -2.47165148e-03]\n",
      " [ 5.00000000e-01 -5.77998325e-01 -9.99952327e-01 -1.10978798e-02]\n",
      " [ 5.00000000e-01 -5.78889573e-01 -9.36992916e-03  9.99935362e-01]]\n"
     ]
    }
   ],
   "source": [
    "u_right,v_right = np.linalg.eig(-L)\n",
    "u_left,v_left = np.linalg.eig(-L.T)\n",
    "print(\"Eigenvalues\",u_right)\n",
    "print(\"Columns as left eigenvectors\\n\",v_left)\n",
    "print(\"Columns as right eigenvectors\\n\",v_right)"
   ]
  },
  {
   "cell_type": "code",
   "execution_count": 150,
   "metadata": {},
   "outputs": [
    {
     "name": "stdout",
     "output_type": "stream",
     "text": [
      "[-4.00375894e-09  7.01789003e-05  7.05256730e-05  7.06344205e-05]\n",
      "[0.5 0.5 0.5 0.5]\n",
      "[ 4.00375894e-09 -7.01789003e-05 -7.05256730e-05 -7.06344205e-05]\n"
     ]
    }
   ],
   "source": []
  },
  {
   "cell_type": "code",
   "execution_count": 151,
   "metadata": {},
   "outputs": [
    {
     "name": "stdout",
     "output_type": "stream",
     "text": [
      "Eigenvalue 0.00012201708886640726\n",
      "F\n",
      " [[-0.00000000e+00 -3.99619663e-09 -3.87973268e-12 -3.45418335e-12]\n",
      " [ 3.99619663e-09 -0.00000000e+00 -6.96972251e-12 -6.51075662e-12]\n",
      " [ 3.87973268e-12  6.96972251e-12 -0.00000000e+00 -0.00000000e+00]\n",
      " [ 3.45418335e-12  6.51075662e-12  0.00000000e+00 -0.00000000e+00]]\n",
      "Index with max. value of abs(F_ij) 1 2\n",
      "Eigencurrent at node 1  :  -3.2811228194463544e-05\n",
      "Eigencurrent at node 2  :  3.264064229255034e-05\n",
      "Eigencurrent at node 3  :  8.891750560527225e-08\n",
      "Eigencurrent at node 4  :  8.166839630790653e-08\n",
      "\n",
      "\n",
      "Eigenvalue 0.01602898317411897\n",
      "F\n",
      " [[-0.00000000e+00  1.90882354e-11 -6.71165870e-12 -5.59063727e-14]\n",
      " [-1.90882354e-11 -0.00000000e+00 -2.45902084e-09 -2.11326116e-11]\n",
      " [ 6.71165870e-12  2.45902084e-09 -0.00000000e+00  0.00000000e+00]\n",
      " [ 5.59063727e-14  2.11326116e-11 -0.00000000e+00 -0.00000000e+00]]\n",
      "Index with max. value of abs(F_ij) 2 3\n",
      "Eigencurrent at node 1  :  7.686495259102252e-10\n",
      "Eigencurrent at node 2  :  -1.5592016414032887e-07\n",
      "Eigencurrent at node 3  :  1.5382962677239485e-07\n",
      "Eigencurrent at node 4  :  1.3218878420239593e-09\n",
      "\n",
      "\n",
      "Eigenvalue 0.012434778146885253\n",
      "F\n",
      " [[-0.00000000e+00 -1.71721062e-11 -7.44887385e-14  5.96618849e-12]\n",
      " [ 1.71721062e-11 -0.00000000e+00 -2.11549615e-11  1.74819004e-09]\n",
      " [ 7.44887385e-14  2.11549615e-11 -0.00000000e+00  0.00000000e+00]\n",
      " [-5.96618849e-12 -1.74819004e-09 -0.00000000e+00 -0.00000000e+00]]\n",
      "Index with max. value of abs(F_ij) 4 2\n",
      "Eigencurrent at node 1  :  -9.071658782805066e-10\n",
      "Eigencurrent at node 2  :  1.4026845999026034e-07\n",
      "Eigencurrent at node 3  :  1.7072640937158878e-09\n",
      "Eigencurrent at node 4  :  -1.4106855820569575e-07\n",
      "\n",
      "\n"
     ]
    }
   ],
   "source": [
    "for k in range(1,4):\n",
    "    print(\"Eigenvalue\",u_right[k])\n",
    "    F = np.zeros((4,4))\n",
    "    for i in range(4):\n",
    "        for j in range(4):\n",
    "            F[i,j] = pi[i]*L[i,j]*(v_right[j,k] - v_right[i,k])\n",
    "    print(\"F\\n\",F)\n",
    "    ind = np.unravel_index(np.argmax(np.abs(F)),(4,4))\n",
    "    print(\"Index with max. value of abs(F_ij)\",ind[0]+1,ind[1]+1)\n",
    "    \n",
    "    for i in range(4):\n",
    "        print(\"Eigencurrent at node\",i+1,\" : \",-pi[i]*v_right[i,k])\n",
    "    print(\"\\n\")"
   ]
  },
  {
   "cell_type": "markdown",
   "metadata": {},
   "source": [
    "- For Eigenvalue = 0.0001222, it corresponds to transition process from 2 to 1, most eigencurrent is emitted at 2 and absorbed at 1\n",
    "- For Eigenvalue = 0.01602, it corresponds to transition process from 3 to 2, most eigencurrent is emitted at 3 and absorbed at 2\n",
    "- For Eigenvalue = 0.01243, it corresponds to transition process from 4 to 2, most eigencurrent is emitted at 4 and absorbed at 2"
   ]
  },
  {
   "cell_type": "markdown",
   "metadata": {},
   "source": [
    "## (c)"
   ]
  },
  {
   "cell_type": "code",
   "execution_count": 134,
   "metadata": {},
   "outputs": [
    {
     "name": "stdout",
     "output_type": "stream",
     "text": [
      "Forward Commitor values [1.         0.         0.00272943 0.00340955]\n",
      "Reactive current 6.960261759438633e-09\n",
      "Escape rate 0.00012201370138800253\n"
     ]
    }
   ],
   "source": [
    "ind_A = 1\n",
    "ind_B = 0\n",
    "\n",
    "A = np.array([[L[2,2],L[2,3]],[L[3,2],L[3,3]]])\n",
    "b = np.array([-L[2,0],-L[3,0]])\n",
    "q_23 = np.linalg.solve(A,b)\n",
    "q = np.array([1,0,q_23[0],q_23[1]])\n",
    "print(\"Forward Commitor values\",q)\n",
    "# calculate the reactive rate\n",
    "mu = 0\n",
    "for i in range(4):\n",
    "    for j in range(4):\n",
    "        F_ij = pi[i]*L[i,j]*(q[j] - q[i])\n",
    "        if q[i] <= 0.5 and q[j] > 0.5:\n",
    "            mu += F_ij\n",
    "print(\"Reactive current\",mu)\n",
    "rho_A = np.sum(pi*(1-q))\n",
    "k_AB = mu/rho_A\n",
    "print(\"Escape rate\",k_AB)"
   ]
  },
  {
   "cell_type": "markdown",
   "metadata": {},
   "source": [
    "The escape rate is close to the first eigenvalue above $\\approx 0.00012201708886640726$ which corresponds to the transition process along minima 2 to 1."
   ]
  },
  {
   "cell_type": "markdown",
   "metadata": {},
   "source": [
    "## (d)"
   ]
  },
  {
   "cell_type": "code",
   "execution_count": 152,
   "metadata": {},
   "outputs": [
    {
     "name": "stdout",
     "output_type": "stream",
     "text": [
      "Forward Commitor values [1.         0.80004937 0.80004937 0.        ]\n",
      "Reactive current 1.4012464538890519e-09\n",
      "Escape rate 0.00012164424686739148\n"
     ]
    }
   ],
   "source": [
    "ind_A = 3\n",
    "ind_B = 0\n",
    "\n",
    "A = np.array([[L[1,1],L[1,2]],[L[2,1],L[2,2]]])\n",
    "b = np.array([-L[1,0],-L[2,0]])\n",
    "q_12 = np.linalg.solve(A,b)\n",
    "q = np.array([1,q_12[1],q_12[1],0])\n",
    "print(\"Forward Commitor values\",q)\n",
    "\n",
    "# calculate the reactive rate\n",
    "mu = 0\n",
    "for i in range(4):\n",
    "    for j in range(4):\n",
    "        F_ij = pi[i]*L[i,j]*(q[j] - q[i])\n",
    "        #print(i,j,F_ij)\n",
    "        # using an isocommitor cut\n",
    "        if q[i] <= 0.5 and q[j] > 0.5:\n",
    "            mu += F_ij\n",
    "print(\"Reactive current\",mu)\n",
    "rho_A = np.sum(pi*(1-q))\n",
    "k_AB = mu/rho_A\n",
    "print(\"Escape rate\",k_AB)"
   ]
  },
  {
   "cell_type": "markdown",
   "metadata": {},
   "source": [
    "The escape rate is close to the first eigenvalue above $\\approx 0.00012201708886640726$ which corresponds to the transition process along minima 2 to 1.\n",
    "\n",
    "From the values of $F_{ij}$, the current is concentrated on the edges $4 \\rightarrow 2, 2 \\rightarrow 1$. "
   ]
  }
 ],
 "metadata": {
  "kernelspec": {
   "display_name": "Python 3",
   "language": "python",
   "name": "python3"
  },
  "language_info": {
   "codemirror_mode": {
    "name": "ipython",
    "version": 3
   },
   "file_extension": ".py",
   "mimetype": "text/x-python",
   "name": "python",
   "nbconvert_exporter": "python",
   "pygments_lexer": "ipython3",
   "version": "3.6.5"
  }
 },
 "nbformat": 4,
 "nbformat_minor": 2
}
